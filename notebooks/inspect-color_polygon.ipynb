{
 "cells": [
  {
   "cell_type": "code",
   "execution_count": null,
   "metadata": {},
   "outputs": [],
   "source": [
    "import os\n",
    "\n",
    "os.chdir(\"../\")\n",
    "\n",
    "import hydra\n",
    "import matplotlib.pyplot as plt\n",
    "\n",
    "hydra.initialize(version_base=\"1.3\", config_path=\"../configs/data/\")\n",
    "\n",
    "cfg = hydra.compose(config_name=\"color_polygon.yaml\")\n",
    "dm = hydra.utils.instantiate(cfg)"
   ]
  },
  {
   "cell_type": "code",
   "execution_count": null,
   "metadata": {},
   "outputs": [],
   "source": [
    "ds_train = dm.data_train\n",
    "\n",
    "item = ds_train[0]\n",
    "\n",
    "img = item[\"image\"].permute(1, 2, 0).numpy()\n",
    "bbox = item[\"target_bounding_box\"]\n",
    "bottom_left = bbox[0]\n",
    "top_right = bbox[1]\n",
    "\n",
    "segmentation = item[\"target_segmentation\"]\n",
    "\n",
    "\n",
    "fig, ax = plt.subplots(1, 1)\n",
    "ax.imshow(img)\n",
    "ax.add_patch(\n",
    "    plt.Rectangle(\n",
    "        bottom_left,\n",
    "        top_right[0] - bottom_left[0],\n",
    "        top_right[1] - bottom_left[1],\n",
    "        fill=False,\n",
    "        color=\"red\",\n",
    "    )\n",
    ")\n",
    "\n",
    "plt.show()"
   ]
  }
 ],
 "metadata": {
  "kernelspec": {
   "display_name": "lhydra",
   "language": "python",
   "name": "python3"
  },
  "language_info": {
   "codemirror_mode": {
    "name": "ipython",
    "version": 3
   },
   "file_extension": ".py",
   "mimetype": "text/x-python",
   "name": "python",
   "nbconvert_exporter": "python",
   "pygments_lexer": "ipython3",
   "version": "3.10.13"
  }
 },
 "nbformat": 4,
 "nbformat_minor": 2
}
